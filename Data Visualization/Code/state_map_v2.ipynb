{
 "cells": [
  {
   "cell_type": "code",
   "execution_count": 1,
   "metadata": {},
   "outputs": [],
   "source": [
    "#slides to present on:\n",
    "#slide 6: Political Overview of washington\n",
    "#---------Nghia's pie chart with politics map\n",
    "#slide 7: Overview of population vs. cases\n",
    "#---------Jesse's bar chart of cases & population by county\n",
    "#---------Map of population by county and cases/100k by county\n",
    "#slide 8: Overview of poverty/income in Washington\n",
    "#---------Map of poverty level"
   ]
  },
  {
   "cell_type": "code",
   "execution_count": 2,
   "metadata": {},
   "outputs": [],
   "source": [
    "#read input data\n",
    "#data totals by county, fips codes for mapping county boundaries\n",
    "import pandas as pd\n",
    "\n",
    "merge_by_county = pd.read_csv('Regression_Mike/Final Merge 7_17_20.csv')\n",
    "fips_df = pd.read_csv('Resources/county_fips.csv')"
   ]
  },
  {
   "cell_type": "code",
   "execution_count": 3,
   "metadata": {},
   "outputs": [],
   "source": [
    "by_county = pd.merge(merge_by_county, fips_df, on='County')\n",
    "by_county = by_county[[\n",
    "    'County',\n",
    "    'Political_Party',\n",
    "    'Household Income Median',\n",
    "    'Percent Below Poverty Level',\n",
    "    'fips',\n",
    "    'NewPos_All',\n",
    "    'Deaths',\n",
    "    'Hospitalizations_hospitalization',\n",
    "    'Population',\n",
    "    'Case_per100k',\n",
    "    'Deaths_per100k',\n",
    "    'Hoptializations_per100k',\n",
    "    'Population_Density'\n",
    "]]\n",
    "\n",
    "by_county.columns = [\n",
    "    'County',\n",
    "    'Political_Party',\n",
    "    'Household Income Median',\n",
    "    'Percent Below Poverty Level',\n",
    "    'fips',\n",
    "    'Cases',\n",
    "    'Deaths',\n",
    "    'Hospitalizations',\n",
    "    'Population',\n",
    "    'Cases per 100k',\n",
    "    'Deaths per 100k',\n",
    "    'Hoptializations per 100k',\n",
    "    'Population Density'\n",
    "]\n",
    "\n",
    "republican_counties = by_county[by_county['Political_Party'] == 'Republican']\n",
    "democrat_counties = by_county[by_county['Political_Party'] == 'Democratic']"
   ]
  },
  {
   "cell_type": "code",
   "execution_count": 4,
   "metadata": {},
   "outputs": [],
   "source": [
    "wash_lat = 47.7511\n",
    "wash_lon = -120.7401\n",
    "\n",
    "from urllib.request import urlopen\n",
    "import json\n",
    "\n",
    "with urlopen('https://raw.githubusercontent.com/plotly/datasets/master/geojson-counties-fips.json') as response:\n",
    "    counties = json.load(response)"
   ]
  },
  {
   "cell_type": "code",
   "execution_count": 5,
   "metadata": {},
   "outputs": [],
   "source": [
    "import plotly.express as px\n",
    "#create function to generate choropleth map for Washington colored by a given metric\n",
    "def state_map_summary(metric, color1, color2, color3):\n",
    "    fig = px.choropleth_mapbox(\n",
    "        by_county,\n",
    "        geojson=counties, \n",
    "        locations='fips', \n",
    "        color=f'{metric}',\n",
    "        color_continuous_scale=[f'{color1}', f'{color2}', f'{color3}'],\n",
    "        mapbox_style='carto-positron',\n",
    "        zoom=5.35,\n",
    "        center= {\"lat\": wash_lat, \"lon\": wash_lon},\n",
    "        opacity=0.65,\n",
    "        labels={f'{metric}': f'{metric}'}\n",
    "    )\n",
    "    fig.update_layout(margin={\"r\":0,\"t\":0,\"l\":0,\"b\":0})\n",
    "    fig.write_image('map_visuals/'f'{metric}.png')"
   ]
  },
  {
   "cell_type": "code",
   "execution_count": 6,
   "metadata": {},
   "outputs": [],
   "source": [
    "#slide 6: political overview of Washington\n",
    "fig = px.choropleth_mapbox(\n",
    "    by_county, \n",
    "    geojson=counties, \n",
    "    locations='fips', \n",
    "    color='Political_Party',\n",
    "    hover_name='County',\n",
    "    color_discrete_map={\n",
    "        'Republican': 'red',\n",
    "        'Democratic': 'blue'\n",
    "    },\n",
    "    mapbox_style='carto-positron',\n",
    "    zoom=5.35,\n",
    "    center= {\"lat\": wash_lat, \"lon\": wash_lon},\n",
    "    opacity=0.65,\n",
    "    labels={'Political_Party':'Political_Party'},\n",
    "    title='Political Affiliation by County'\n",
    ")\n",
    "fig.update_layout(margin={\"r\":0,\"t\":0,\"l\":0,\"b\":0})\n",
    "fig.write_image('map_visuals/politics_map.png')"
   ]
  },
  {
   "cell_type": "code",
   "execution_count": 7,
   "metadata": {},
   "outputs": [],
   "source": [
    "#slide 7: \"Overview of Washington\" \n",
    "#population\n",
    "state_map_summary('Population','#E3F2FD','#2196F3','#0000FF')\n",
    "#cases per 100k\n",
    "state_map_summary('Cases per 100k','#F0F4C3','#CDDC39','#827717')"
   ]
  },
  {
   "cell_type": "code",
   "execution_count": 8,
   "metadata": {},
   "outputs": [],
   "source": [
    "#slide 8: poverty map red to green\n",
    "#median income\n",
    "state_map_summary('Household Income Median','red','yellow','green')"
   ]
  },
  {
   "cell_type": "code",
   "execution_count": null,
   "metadata": {},
   "outputs": [],
   "source": []
  }
 ],
 "metadata": {
  "kernelspec": {
   "display_name": "Python 3.6.10 64-bit ('PythonData': conda)",
   "language": "python",
   "name": "python361064bitpythondataconda992fc1ae3b7c4604b7171c55419ec128"
  },
  "language_info": {
   "codemirror_mode": {
    "name": "ipython",
    "version": 3
   },
   "file_extension": ".py",
   "mimetype": "text/x-python",
   "name": "python",
   "nbconvert_exporter": "python",
   "pygments_lexer": "ipython3",
   "version": "3.6.10"
  }
 },
 "nbformat": 4,
 "nbformat_minor": 2
}
