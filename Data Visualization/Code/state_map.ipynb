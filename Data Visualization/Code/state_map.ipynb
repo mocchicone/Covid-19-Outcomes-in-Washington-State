{
 "cells": [
  {
   "cell_type": "code",
   "execution_count": 24,
   "metadata": {},
   "outputs": [],
   "source": [
    "from plotly import figure_factory as ff\n",
    "import numpy as np\n",
    "import pandas as pd"
   ]
  },
  {
   "cell_type": "code",
   "execution_count": 25,
   "metadata": {},
   "outputs": [],
   "source": [
    "politics_file = 'sars_political_leaning_nghia.csv'\n",
    "fips_file = 'county_fips.csv'\n",
    "deaths_file = 'sars_deaths.csv'\n",
    "\n",
    "county_politics = pd.read_csv(politics_file)\n",
    "county_fips = pd.read_csv(fips_file, delimiter='\\t')\n",
    "total_deaths = pd.read_csv(deaths_file)\n",
    "county_deaths = total_deaths[['County', 'Deaths']].groupby('County').sum()\n"
   ]
  },
  {
   "cell_type": "code",
   "execution_count": 26,
   "metadata": {},
   "outputs": [
    {
     "output_type": "execute_result",
     "data": {
      "text/plain": "   Counter           County Political_Party  County Code (FIPS)  Deaths\n0        1     Adams County      Republican                   1     0.0\n1        2    Asotin County      Republican                   3     2.0\n2        3    Benton County      Republican                   5    85.0\n3        4    Chelan County      Republican                   7     6.0\n4        5   Clallam County      Democratic                   9     0.0\n5        6     Clark County      Democratic                  11    30.0\n6        7  Columbia County      Republican                  13     0.0\n7        8   Cowlitz County      Republican                  15     0.0\n8        9   Douglas County      Republican                  17     3.0\n9       10  Franklin County      Republican                  21    33.0",
      "text/html": "<div>\n<style scoped>\n    .dataframe tbody tr th:only-of-type {\n        vertical-align: middle;\n    }\n\n    .dataframe tbody tr th {\n        vertical-align: top;\n    }\n\n    .dataframe thead th {\n        text-align: right;\n    }\n</style>\n<table border=\"1\" class=\"dataframe\">\n  <thead>\n    <tr style=\"text-align: right;\">\n      <th></th>\n      <th>Counter</th>\n      <th>County</th>\n      <th>Political_Party</th>\n      <th>County Code (FIPS)</th>\n      <th>Deaths</th>\n    </tr>\n  </thead>\n  <tbody>\n    <tr>\n      <th>0</th>\n      <td>1</td>\n      <td>Adams County</td>\n      <td>Republican</td>\n      <td>1</td>\n      <td>0.0</td>\n    </tr>\n    <tr>\n      <th>1</th>\n      <td>2</td>\n      <td>Asotin County</td>\n      <td>Republican</td>\n      <td>3</td>\n      <td>2.0</td>\n    </tr>\n    <tr>\n      <th>2</th>\n      <td>3</td>\n      <td>Benton County</td>\n      <td>Republican</td>\n      <td>5</td>\n      <td>85.0</td>\n    </tr>\n    <tr>\n      <th>3</th>\n      <td>4</td>\n      <td>Chelan County</td>\n      <td>Republican</td>\n      <td>7</td>\n      <td>6.0</td>\n    </tr>\n    <tr>\n      <th>4</th>\n      <td>5</td>\n      <td>Clallam County</td>\n      <td>Democratic</td>\n      <td>9</td>\n      <td>0.0</td>\n    </tr>\n    <tr>\n      <th>5</th>\n      <td>6</td>\n      <td>Clark County</td>\n      <td>Democratic</td>\n      <td>11</td>\n      <td>30.0</td>\n    </tr>\n    <tr>\n      <th>6</th>\n      <td>7</td>\n      <td>Columbia County</td>\n      <td>Republican</td>\n      <td>13</td>\n      <td>0.0</td>\n    </tr>\n    <tr>\n      <th>7</th>\n      <td>8</td>\n      <td>Cowlitz County</td>\n      <td>Republican</td>\n      <td>15</td>\n      <td>0.0</td>\n    </tr>\n    <tr>\n      <th>8</th>\n      <td>9</td>\n      <td>Douglas County</td>\n      <td>Republican</td>\n      <td>17</td>\n      <td>3.0</td>\n    </tr>\n    <tr>\n      <th>9</th>\n      <td>10</td>\n      <td>Franklin County</td>\n      <td>Republican</td>\n      <td>21</td>\n      <td>33.0</td>\n    </tr>\n  </tbody>\n</table>\n</div>"
     },
     "metadata": {},
     "execution_count": 26
    }
   ],
   "source": [
    "county_df = pd.merge(county_politics, county_fips, left_on='County', right_on='Area Name')\n",
    "county_df = pd.merge(county_df, county_deaths, how='outer', on='County').fillna(0)\n",
    "county_df = county_df[['Counter', 'County', 'Political_Party', 'County Code (FIPS)', 'Deaths']]\n",
    "county_df.head(10)"
   ]
  },
  {
   "cell_type": "code",
   "execution_count": 27,
   "metadata": {},
   "outputs": [
    {
     "output_type": "error",
     "ename": "ValueError",
     "evalue": "\nThe create_choropleth figure factory requires the plotly-geo package.\nInstall using pip with:\n\n$ pip install plotly-geo\n\nOr, install using conda with\n\n$ conda install -c plotly plotly-geo\n",
     "traceback": [
      "\u001b[1;31m---------------------------------------------------------------------------\u001b[0m",
      "\u001b[1;31mValueError\u001b[0m                                Traceback (most recent call last)",
      "\u001b[1;32m<ipython-input-27-9ad21444f403>\u001b[0m in \u001b[0;36m<module>\u001b[1;34m\u001b[0m\n\u001b[0;32m     32\u001b[0m         \u001b[1;34m'width'\u001b[0m\u001b[1;33m:\u001b[0m \u001b[1;36m0.5\u001b[0m\u001b[1;33m\u001b[0m\u001b[1;33m\u001b[0m\u001b[0m\n\u001b[0;32m     33\u001b[0m         },\n\u001b[1;32m---> 34\u001b[1;33m     \u001b[0mexponent_format\u001b[0m\u001b[1;33m=\u001b[0m\u001b[1;32mTrue\u001b[0m\u001b[1;33m,\u001b[0m\u001b[1;33m\u001b[0m\u001b[1;33m\u001b[0m\u001b[0m\n\u001b[0m\u001b[0;32m     35\u001b[0m )\n\u001b[0;32m     36\u001b[0m \u001b[0mfig\u001b[0m\u001b[1;33m.\u001b[0m\u001b[0mlayout\u001b[0m\u001b[1;33m.\u001b[0m\u001b[0mtemplate\u001b[0m \u001b[1;33m=\u001b[0m \u001b[1;32mNone\u001b[0m\u001b[1;33m\u001b[0m\u001b[1;33m\u001b[0m\u001b[0m\n",
      "\u001b[1;32m~\\Anaconda3\\envs\\PythonData\\lib\\site-packages\\plotly\\figure_factory\\_county_choropleth.py\u001b[0m in \u001b[0;36mcreate_choropleth\u001b[1;34m(fips, values, scope, binning_endpoints, colorscale, order, simplify_county, simplify_state, asp, show_hover, show_state_data, state_outline, county_outline, centroid_marker, round_legend_values, exponent_format, legend_title, **layout_options)\u001b[0m\n\u001b[0;32m    613\u001b[0m \u001b[1;33m\u001b[0m\u001b[0m\n\u001b[0;32m    614\u001b[0m \u001b[0;31m$\u001b[0m \u001b[0mconda\u001b[0m \u001b[0minstall\u001b[0m \u001b[1;33m-\u001b[0m\u001b[0mc\u001b[0m \u001b[0mplotly\u001b[0m \u001b[0mplotly\u001b[0m\u001b[1;33m-\u001b[0m\u001b[0mgeo\u001b[0m\u001b[1;33m\u001b[0m\u001b[1;33m\u001b[0m\u001b[0m\n\u001b[1;32m--> 615\u001b[1;33m \"\"\"\n\u001b[0m\u001b[0;32m    616\u001b[0m         )\n\u001b[0;32m    617\u001b[0m \u001b[1;33m\u001b[0m\u001b[0m\n",
      "\u001b[1;31mValueError\u001b[0m: \nThe create_choropleth figure factory requires the plotly-geo package.\nInstall using pip with:\n\n$ pip install plotly-geo\n\nOr, install using conda with\n\n$ conda install -c plotly plotly-geo\n"
     ]
    }
   ],
   "source": [
    "#list of counties from James' dataframe\n",
    "counties = county_df['County'].tolist()\n",
    "fips = county_df['County Code (FIPS)'].tolist()\n",
    "values = county_df['Deaths']\n",
    "\n",
    "#endpts = list(np.mgrid[min(values):max(values):4j])\n",
    "#colorscale = [\n",
    "    #\"#030512\",\n",
    "    #\"#1d1d3b\",\n",
    "    #\"#323268\",\n",
    "    #\"#3d4b94\",\n",
    "    #\"#3e6ab0\",\n",
    "    #\"#4989bc\",\n",
    "    #\"#60a7c7\",\n",
    "    #\"#85c5d3\",\n",
    "    #\"#b7e0e4\",\n",
    "    #\"#eafcfd\"\n",
    "    #]\n",
    "fig = ff.create_choropleth(\n",
    "    fips=fips, \n",
    "    values=values, \n",
    "    #scope=['Florida'], \n",
    "    #show_state_data=True,\n",
    "    #colorscale=colorscale, \n",
    "    #binning_endpoints=endpts, \n",
    "    round_legend_values=True,\n",
    "    plot_bgcolor='rgb(229,229,229)',\n",
    "    paper_bgcolor='rgb(229,229,229)',\n",
    "    legend_title='Population by County',\n",
    "    county_outline={\n",
    "        'color': 'rgb(255,255,255)', \n",
    "        'width': 0.5\n",
    "        },\n",
    "    exponent_format=True,\n",
    ")\n",
    "fig.layout.template = None\n",
    "fig.show()"
   ]
  },
  {
   "cell_type": "code",
   "execution_count": null,
   "metadata": {},
   "outputs": [],
   "source": []
  }
 ],
 "metadata": {
  "language_info": {
   "codemirror_mode": {
    "name": "ipython",
    "version": 3
   },
   "file_extension": ".py",
   "mimetype": "text/x-python",
   "name": "python",
   "nbconvert_exporter": "python",
   "pygments_lexer": "ipython3",
   "version": 3
  },
  "orig_nbformat": 2,
  "kernelspec": {
   "name": "python_defaultSpec_1594690255637",
   "display_name": "Python 3.6.10 64-bit ('PythonData': conda)"
  }
 },
 "nbformat": 4,
 "nbformat_minor": 2
}