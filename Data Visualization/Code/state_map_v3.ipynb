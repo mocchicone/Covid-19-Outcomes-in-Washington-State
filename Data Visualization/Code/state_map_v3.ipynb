{
 "cells": [
  {
   "cell_type": "code",
   "execution_count": null,
   "metadata": {},
   "outputs": [],
   "source": [
    "# Dependencies and Setup\n",
    "import matplotlib.pyplot as plt\n",
    "import pandas as pd\n",
    "import numpy as np\n",
    "import requests\n",
    "import gmaps\n",
    "import os\n",
    "import json\n",
    "from pprint import pprint\n",
    "from urllib.request import urlopen\n",
    "import plotly.express as px"
   ]
  },
  {
   "cell_type": "code",
   "execution_count": 1,
   "metadata": {},
   "outputs": [],
   "source": [
    "covid_file = 'covid_merged.csv'\n",
    "politics_file = 'sars_political_leaning_nghia.csv'\n",
    "fips_file = 'Resources/county_fips.csv'\n",
    "deaths_file = 'Resources/sars_deaths.csv'"
   ]
  },
  {
   "cell_type": "code",
   "execution_count": null,
   "metadata": {},
   "outputs": [],
   "source": [
    "covid_df = pd.read_csv(covid_file)\n",
    "county_politics = pd.read_csv(politics_file)\n",
    "county_fips = pd.read_csv(fips_file)\n",
    "total_deaths = pd.read_csv(deaths_file)\n",
    "#county_politics"
   ]
  },
  {
   "cell_type": "code",
   "execution_count": null,
   "metadata": {},
   "outputs": [],
   "source": [
    "cases_df = covid_df[['County', 'Age 0-19_cases', 'Age 20-39_cases', 'Age 40-59_cases', 'Age 60-79_cases', 'Age 80+_cases']].groupby('County').sum()\n",
    "hospital_df = covid_df[['County', 'Age 0-19_hospitalization', 'Age 20-39_hospitalization', 'Age 40-59_hospitalization', 'Age 60-79_hospitalization', 'Age 80+_hospitalization']].groupby('County').sum()\n",
    "death_df = covid_df[['County', 'Age 0-19_death', 'Age 20-39_death', 'Age 40-59_death', 'Age 60-79_death', 'Age 80+_death']].groupby('County').sum()"
   ]
  },
  {
   "cell_type": "code",
   "execution_count": null,
   "metadata": {},
   "outputs": [],
   "source": [
    "cases_df['Total Cases'] = cases_df.sum(axis=1)\n",
    "hospital_df['Total Hospitalizations'] = hospital_df.sum(axis=1)\n",
    "death_df['Total Deaths'] = death_df.sum(axis=1)"
   ]
  },
  {
   "cell_type": "code",
   "execution_count": null,
   "metadata": {},
   "outputs": [],
   "source": [
    "county_df = pd.merge(county_politics, county_fips, on='County', how='left')\n",
    "county_df\n",
    "\n",
    "county_df = pd.merge(county_df, cases_df, on='County')\n",
    "county_df = pd.merge(county_df, hospital_df, on='County')\n",
    "county_df = pd.merge(county_df, death_df, on='County')\n",
    "\n",
    "county_df = county_df[['Counter', 'County', 'Political_Party', 'fips', 'Total Cases', 'Total Hospitalizations', 'Total Deaths']]\n",
    "#county_df"
   ]
  },
  {
   "cell_type": "code",
   "execution_count": null,
   "metadata": {},
   "outputs": [],
   "source": [
    "wash_lat = 47.7511\n",
    "wash_lon = -120.7401\n",
    "\n",
    "with urlopen('https://raw.githubusercontent.com/plotly/datasets/master/geojson-counties-fips.json') as response:\n",
    "    counties = json.load(response)"
   ]
  },
  {
   "cell_type": "code",
   "execution_count": null,
   "metadata": {},
   "outputs": [],
   "source": [
    "fig = px.choropleth_mapbox(\n",
    "    county_df,\n",
    "    geojson=counties, \n",
    "    locations='fips', \n",
    "    color='Total Deaths',\n",
    "    color_continuous_scale=['yellow', 'red'],\n",
    "    mapbox_style='carto-positron',\n",
    "    zoom=5.5,\n",
    "    center= {\"lat\": wash_lat, \"lon\": wash_lon},\n",
    "    opacity=0.5,\n",
    "    labels={'County': 'Total Deaths'}\n",
    ")\n",
    "fig.update_layout(margin={\"r\":0,\"t\":0,\"l\":0,\"b\":0})\n",
    "fig"
   ]
  },
  {
   "cell_type": "code",
   "execution_count": null,
   "metadata": {},
   "outputs": [],
   "source": [
    "fig = px.choropleth_mapbox(\n",
    "    county_df, \n",
    "    geojson=counties, \n",
    "    locations='fips', \n",
    "    color='Political_Party',\n",
    "    hover_name='County',\n",
    "    color_discrete_map={\n",
    "        'Republican': 'red',\n",
    "        'Democratic': 'blue'\n",
    "    },\n",
    "    #color_continuous_scale='Viridis',\n",
    "    mapbox_style='carto-positron',\n",
    "    zoom=5.5,\n",
    "    center= {\"lat\": 47.7511, \"lon\": -120.7401},\n",
    "    opacity=0.5,\n",
    "    labels={'Political_Party':'Political_Party'},\n",
    "    title='Political Affiliation by County'\n",
    ")\n",
    "fig.update_layout(margin={\"r\":0,\"t\":0,\"l\":0,\"b\":0})\n",
    "#fig"
   ]
  }
 ],
 "metadata": {
  "language_info": {
   "codemirror_mode": {
    "name": "ipython",
    "version": 3
   },
   "file_extension": ".py",
   "mimetype": "text/x-python",
   "name": "python",
   "nbconvert_exporter": "python",
   "pygments_lexer": "ipython3",
   "version": 3
  },
  "orig_nbformat": 2,
  "kernelspec": {
   "name": "python_defaultSpec_1594873997137",
   "display_name": "Python 3.6.10 64-bit"
  }
 },
 "nbformat": 4,
 "nbformat_minor": 2
}