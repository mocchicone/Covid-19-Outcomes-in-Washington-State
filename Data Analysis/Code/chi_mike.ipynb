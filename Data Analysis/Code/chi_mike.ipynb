{
 "cells": [
  {
   "cell_type": "code",
   "execution_count": 2,
   "metadata": {},
   "outputs": [],
   "source": [
    "import pandas as pd\n",
    "import numpy as np\n",
    "import datetime\n",
    "from functools import reduce\n",
    "import matplotlib.pyplot as plt\n",
    "from scipy.stats import linregress"
   ]
  },
  {
   "cell_type": "code",
   "execution_count": 5,
   "metadata": {},
   "outputs": [
    {
     "data": {
      "text/html": [
       "<div>\n",
       "<style scoped>\n",
       "    .dataframe tbody tr th:only-of-type {\n",
       "        vertical-align: middle;\n",
       "    }\n",
       "\n",
       "    .dataframe tbody tr th {\n",
       "        vertical-align: top;\n",
       "    }\n",
       "\n",
       "    .dataframe thead th {\n",
       "        text-align: right;\n",
       "    }\n",
       "</style>\n",
       "<table border=\"1\" class=\"dataframe\">\n",
       "  <thead>\n",
       "    <tr style=\"text-align: right;\">\n",
       "      <th></th>\n",
       "      <th>Hospitalizations_hospitalization</th>\n",
       "      <th>Population</th>\n",
       "      <th>Hospitalization Rate</th>\n",
       "    </tr>\n",
       "    <tr>\n",
       "      <th>Political_Party</th>\n",
       "      <th></th>\n",
       "      <th></th>\n",
       "      <th></th>\n",
       "    </tr>\n",
       "  </thead>\n",
       "  <tbody>\n",
       "    <tr>\n",
       "      <th>Democratic</th>\n",
       "      <td>3115.0</td>\n",
       "      <td>5673397.0</td>\n",
       "      <td>0.000549</td>\n",
       "    </tr>\n",
       "    <tr>\n",
       "      <th>Republican</th>\n",
       "      <td>1227.0</td>\n",
       "      <td>1941478.0</td>\n",
       "      <td>0.000632</td>\n",
       "    </tr>\n",
       "  </tbody>\n",
       "</table>\n",
       "</div>"
      ],
      "text/plain": [
       "                 Hospitalizations_hospitalization  Population  \\\n",
       "Political_Party                                                 \n",
       "Democratic                                 3115.0   5673397.0   \n",
       "Republican                                 1227.0   1941478.0   \n",
       "\n",
       "                 Hospitalization Rate  \n",
       "Political_Party                        \n",
       "Democratic                   0.000549  \n",
       "Republican                   0.000632  "
      ]
     },
     "execution_count": 5,
     "metadata": {},
     "output_type": "execute_result"
    }
   ],
   "source": [
    "covid_file = pd.read_csv(\"Final Merge 7_17_20.csv\")\n",
    "covid_chi_gb = covid_file.groupby(\"Political_Party\")\n",
    "covid_chi1 = covid_chi_gb.sum()\n",
    "covid_chi1.columns\n",
    "covid_chi1 = covid_chi1[[\"Hospitalizations_hospitalization\", \"Population\"]]\n",
    "covid_chi1[\"Hospitalization Rate\"] = covid_chi1[\"Hospitalizations_hospitalization\"]/ covid_chi1[\"Population\"] \n",
    "hos_sum = covid_chi1[\"Hospitalizations_hospitalization\"].sum()\n",
    "pop_sum = covid_chi1[\"Population\"].sum()\n",
    "rate_sum = covid_chi1[\"Hospitalization Rate\"].sum()\n",
    "covid_chi1"
   ]
  },
  {
   "cell_type": "code",
   "execution_count": 59,
   "metadata": {},
   "outputs": [],
   "source": [
    "covid_chi1[\"% Hospitalized by Party\"] = covid_chi1[\"Hospitalizations_hospitalization\"]/ hos_sum\n",
    "covid_chi1[\"% Party\"] = covid_chi1[\"Population\"]/ pop_sum\n",
    "hed = hos_sum * 0.745041\n",
    "her = hos_sum * 0.254959"
   ]
  },
  {
   "cell_type": "code",
   "execution_count": 65,
   "metadata": {},
   "outputs": [
    {
     "data": {
      "text/html": [
       "<div>\n",
       "<style scoped>\n",
       "    .dataframe tbody tr th:only-of-type {\n",
       "        vertical-align: middle;\n",
       "    }\n",
       "\n",
       "    .dataframe tbody tr th {\n",
       "        vertical-align: top;\n",
       "    }\n",
       "\n",
       "    .dataframe thead th {\n",
       "        text-align: right;\n",
       "    }\n",
       "</style>\n",
       "<table border=\"1\" class=\"dataframe\">\n",
       "  <thead>\n",
       "    <tr style=\"text-align: right;\">\n",
       "      <th></th>\n",
       "      <th>observed</th>\n",
       "      <th>expected</th>\n",
       "    </tr>\n",
       "    <tr>\n",
       "      <th>Political_Party</th>\n",
       "      <th></th>\n",
       "      <th></th>\n",
       "    </tr>\n",
       "  </thead>\n",
       "  <tbody>\n",
       "    <tr>\n",
       "      <th>Democratic</th>\n",
       "      <td>3115.0</td>\n",
       "      <td>3234.968022</td>\n",
       "    </tr>\n",
       "    <tr>\n",
       "      <th>Republican</th>\n",
       "      <td>1227.0</td>\n",
       "      <td>1107.031978</td>\n",
       "    </tr>\n",
       "  </tbody>\n",
       "</table>\n",
       "</div>"
      ],
      "text/plain": [
       "                 observed     expected\n",
       "Political_Party                       \n",
       "Democratic         3115.0  3234.968022\n",
       "Republican         1227.0  1107.031978"
      ]
     },
     "execution_count": 65,
     "metadata": {},
     "output_type": "execute_result"
    }
   ],
   "source": [
    "covid_chi1[\"Actual Hosp\"] = covid_chi1[\"Hospitalizations_hospitalization\"]\n",
    "covid_chi1[\"Expected Hosp\"] = [hed, her]\n",
    "covid_chi2 = covid_chi1[[\"Actual Hosp\", \"Expected Hosp\"]]\n",
    "covid_chi2.columns = [\"observed\", \"expected\"]\n",
    "covid_chi2"
   ]
  },
  {
   "cell_type": "code",
   "execution_count": 63,
   "metadata": {},
   "outputs": [
    {
     "data": {
      "text/plain": [
       "3.841458820694124"
      ]
     },
     "execution_count": 63,
     "metadata": {},
     "output_type": "execute_result"
    }
   ],
   "source": [
    "import scipy.stats as stats\n",
    "critical_value = stats.chi2.ppf(q = 0.95, df = 1)\n",
    "critical_value"
   ]
  },
  {
   "cell_type": "code",
   "execution_count": 67,
   "metadata": {},
   "outputs": [
    {
     "data": {
      "text/plain": [
       "Power_divergenceResult(statistic=16.35001675931367, pvalue=5.26556967891078e-05)"
      ]
     },
     "execution_count": 67,
     "metadata": {},
     "output_type": "execute_result"
    }
   ],
   "source": [
    "stats.chisquare(covid_chi2[\"expected\"], covid_chi2[\"observed\"])"
   ]
  },
  {
   "cell_type": "code",
   "execution_count": null,
   "metadata": {},
   "outputs": [],
   "source": []
  }
 ],
 "metadata": {
  "kernelspec": {
   "display_name": "Python 3",
   "language": "python",
   "name": "python3"
  },
  "language_info": {
   "codemirror_mode": {
    "name": "ipython",
    "version": 3
   },
   "file_extension": ".py",
   "mimetype": "text/x-python",
   "name": "python",
   "nbconvert_exporter": "python",
   "pygments_lexer": "ipython3",
   "version": "3.7.6"
  }
 },
 "nbformat": 4,
 "nbformat_minor": 4
}
